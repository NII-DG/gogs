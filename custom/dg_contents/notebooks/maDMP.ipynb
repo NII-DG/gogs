{
 "cells": [
  {
   "cell_type": "code",
   "execution_count": null,
   "metadata": {},
   "outputs": [],
   "source": []
  }
 ],
 "metadata": {
  "kernelspec": {
   "display_name": "Python 3.9.5 ('flaskenv')",
   "language": "python",
   "name": "python3"
  },
  "language_info": {
   "name": "python",
   "version": "3.9.5"
  },
  "orig_nbformat": 4,
  "vscode": {
   "interpreter": {
    "hash": "c8d2285c1cec65b6e719b0b6513a98242bb07894a50502cd49796fd66a4677b5"
   }
  }
 },
 "nbformat": 4,
 "nbformat_minor": 2
}
